{
 "cells": [
  {
   "cell_type": "code",
   "execution_count": null,
   "metadata": {
    "executionInfo": {
     "elapsed": 2730,
     "status": "ok",
     "timestamp": 1601476957286,
     "user": {
      "displayName": "weiguang sang",
      "photoUrl": "",
      "userId": "01912351487353513814"
     },
     "user_tz": -480
    },
    "id": "RMYi0LNzp9LQ"
   },
   "outputs": [],
   "source": [
    "import pandas as pd\n",
    "import numpy as np\n",
    "import matplotlib.pyplot as plt\n",
    "import seaborn as sns\n",
    "import torch\n",
    "\n",
    "import torch.nn as nn"
   ]
  },
  {
   "cell_type": "code",
   "execution_count": null,
   "metadata": {
    "executionInfo": {
     "elapsed": 2422,
     "status": "ok",
     "timestamp": 1601477017315,
     "user": {
      "displayName": "weiguang sang",
      "photoUrl": "",
      "userId": "01912351487353513814"
     },
     "user_tz": -480
    },
    "id": "MgtDP9C2DeoM"
   },
   "outputs": [],
   "source": [
    "result0_csv = pd.read_csv('5cv_catboost_baseline_target_encoding_.csv')\n",
    "result1_csv = pd.read_csv('xdeep_submission.csv')\n",
    "result2_csv = pd.read_csv('tg_smooth_1_submission.csv')\n",
    "result3_csv = pd.read_csv('lgbm.csv')\n",
    "result4_csv = pd.read_csv('temp_submission.csv')\n"
   ]
  },
  {
   "cell_type": "code",
   "execution_count": null,
   "metadata": {
    "executionInfo": {
     "elapsed": 2670,
     "status": "ok",
     "timestamp": 1601477018574,
     "user": {
      "displayName": "weiguang sang",
      "photoUrl": "",
      "userId": "01912351487353513814"
     },
     "user_tz": -480
    },
    "id": "zHDMRxGgJgoA"
   },
   "outputs": [],
   "source": [
    "score1 = result0_csv.probability.rank()\n",
    "score2 = result1_csv.probability.rank()\n",
    "score3 = result2_csv.probability.rank()\n",
    "score4 = result3_csv.probability.rank()\n",
    "score5 = result4_csv.probability.rank()\n"
   ]
  },
  {
   "cell_type": "code",
   "execution_count": null,
   "metadata": {
    "executionInfo": {
     "elapsed": 1670,
     "status": "ok",
     "timestamp": 1601477033211,
     "user": {
      "displayName": "weiguang sang",
      "photoUrl": "",
      "userId": "01912351487353513814"
     },
     "user_tz": -480
    },
    "id": "KtD42qmgP9SX"
   },
   "outputs": [],
   "source": [
    "pred = (score1+score2+score3+score4+score5)/5"
   ]
  },
  {
   "cell_type": "code",
   "execution_count": null,
   "metadata": {
    "executionInfo": {
     "elapsed": 1359,
     "status": "ok",
     "timestamp": 1601477033901,
     "user": {
      "displayName": "weiguang sang",
      "photoUrl": "",
      "userId": "01912351487353513814"
     },
     "user_tz": -480
    },
    "id": "tmu3KervJ5Jk"
   },
   "outputs": [],
   "source": [
    "result = (pred-pred.min())/(pred.max()-pred.min())"
   ]
  },
  {
   "cell_type": "code",
   "execution_count": null,
   "metadata": {
    "colab": {
     "base_uri": "https://localhost:8080/",
     "height": 34
    },
    "executionInfo": {
     "elapsed": 1175,
     "status": "ok",
     "timestamp": 1601477039929,
     "user": {
      "displayName": "weiguang sang",
      "photoUrl": "",
      "userId": "01912351487353513814"
     },
     "user_tz": -480
    },
    "id": "-s4qhRG-cn__",
    "outputId": "a4e27f13-7819-4cca-ff6f-3da6c14ee23b"
   },
   "outputs": [],
   "source": [
    "(result>0.5).sum()"
   ]
  },
  {
   "cell_type": "code",
   "execution_count": null,
   "metadata": {
    "executionInfo": {
     "elapsed": 1502,
     "status": "ok",
     "timestamp": 1601477043138,
     "user": {
      "displayName": "weiguang sang",
      "photoUrl": "",
      "userId": "01912351487353513814"
     },
     "user_tz": -480
    },
    "id": "jYZuFrqdtKRC"
   },
   "outputs": [],
   "source": [
    "result1_csv['probability'] = result"
   ]
  },
  {
   "cell_type": "code",
   "execution_count": null,
   "metadata": {
    "executionInfo": {
     "elapsed": 4252,
     "status": "ok",
     "timestamp": 1601477046166,
     "user": {
      "displayName": "weiguang sang",
      "photoUrl": "",
      "userId": "01912351487353513814"
     },
     "user_tz": -480
    },
    "id": "GHF4ZngwtV6P"
   },
   "outputs": [],
   "source": [
    "result1_csv.to_csv('submission.csv',index=False)"
   ]
  },
  {
   "cell_type": "code",
   "execution_count": null,
   "metadata": {
    "colab": {
     "base_uri": "https://localhost:8080/",
     "height": 402
    },
    "executionInfo": {
     "elapsed": 2875,
     "status": "ok",
     "timestamp": 1601477046166,
     "user": {
      "displayName": "weiguang sang",
      "photoUrl": "",
      "userId": "01912351487353513814"
     },
     "user_tz": -480
    },
    "id": "0XaXXLhgKKEM",
    "outputId": "cc4c98dd-1c1f-4c0d-e630-c5cbeae2d15d"
   },
   "outputs": [],
   "source": [
    "result1_csv"
   ]
  },
  {
   "cell_type": "code",
   "execution_count": null,
   "metadata": {
    "id": "9adJUadJxdpc"
   },
   "outputs": [],
   "source": []
  }
 ],
 "metadata": {
  "colab": {
   "authorship_tag": "ABX9TyNFXdu5yFaUIxNd6JRNeaSL",
   "collapsed_sections": [],
   "mount_file_id": "1kPOZkO_eosq9_wGOQ-QPTxb4xg-lRvyr",
   "name": "ens.ipynb",
   "provenance": []
  },
  "kernelspec": {
   "display_name": "Python 3",
   "language": "python",
   "name": "python3"
  },
  "language_info": {
   "codemirror_mode": {
    "name": "ipython",
    "version": 3
   },
   "file_extension": ".py",
   "mimetype": "text/x-python",
   "name": "python",
   "nbconvert_exporter": "python",
   "pygments_lexer": "ipython3",
   "version": "3.7.7"
  }
 },
 "nbformat": 4,
 "nbformat_minor": 1
}
